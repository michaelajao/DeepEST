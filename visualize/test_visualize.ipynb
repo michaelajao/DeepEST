{
 "cells": [
  {
   "cell_type": "code",
   "execution_count": 1,
   "metadata": {
    "ExecuteTime": {
     "end_time": "2024-05-24T15:49:18.595506Z",
     "start_time": "2024-05-24T15:49:18.590025Z"
    }
   },
   "source": [
    "import plotly.graph_objects as go\n",
    "import networkx as nx\n",
    "import torch\n",
    "import pandas as pd\n",
    "import sys\n",
    "sys.path.append(\"../\")\n",
    "from models import *\n",
    "from trainer import *\n",
    "from plotly.offline import iplot\n",
    "from line_visualize import plot_line_chart\n",
    "from graph_visualize import visualize_graph_from_edges"
   ],
   "outputs": []
  },
  {
   "cell_type": "code",
   "execution_count": 2,
   "metadata": {
    "ExecuteTime": {
     "end_time": "2024-05-24T15:49:18.804868Z",
     "start_time": "2024-05-24T15:49:18.598175Z"
    }
   },
   "source": [
    "claim_data = torch.Tensor(pd.read_pickle('../data/claim_tensor.pkl'))\n",
    "county_data = torch.Tensor(pd.read_pickle('../data/county_tensor.pkl'))\n",
    "hospitalizations_data = torch.Tensor(pd.read_pickle('../data/hospitalizations.pkl'))\n",
    "distance_matrix = torch.Tensor(pd.read_pickle('../data/distance_mat.pkl'))\n",
    "data_time = pd.read_pickle('../data/date_range.pkl') #这个是list\n",
    "claim_data.shape, county_data.shape, hospitalizations_data.shape, distance_matrix.shape,\n",
    "dynamic_data = torch.cat((claim_data,torch.unsqueeze(hospitalizations_data, -1)), -1)\n",
    "static_data = county_data\n",
    "label = torch.unsqueeze(hospitalizations_data, -1)\n",
    "dynamic_data = dynamic_data[:50]\n",
    "static_data = static_data[:50]\n",
    "label = label[:50]\n",
    "threshold = 5000\n",
    "print(threshold)\n",
    "nodes_count = 50\n",
    "edge_index =  construct_adjacency_matrix(static_data, threshold)\n"
   ],
   "outputs": []
  },
  {
   "cell_type": "code",
   "execution_count": 3,
   "metadata": {
    "ExecuteTime": {
     "end_time": "2024-05-24T15:49:18.815994Z",
     "start_time": "2024-05-24T15:49:18.808072Z"
    }
   },
   "source": [
    "edge_index"
   ],
   "outputs": []
  },
  {
   "cell_type": "code",
   "execution_count": 4,
   "metadata": {
    "ExecuteTime": {
     "end_time": "2024-05-24T15:49:19.129043Z",
     "start_time": "2024-05-24T15:49:18.818144Z"
    }
   },
   "source": [
    "visualize_graph_from_edges(edge_index)"
   ],
   "outputs": []
  },
  {
   "cell_type": "code",
   "execution_count": 5,
   "metadata": {},
   "source": [
    "data_multiple = np.random.rand(5, 20)"
   ],
   "outputs": []
  },
  {
   "cell_type": "code",
   "execution_count": 6,
   "metadata": {},
   "source": [
    "plot_line_chart(data_multiple)"
   ],
   "outputs": []
  },
  {
   "cell_type": "code",
   "execution_count": null,
   "metadata": {},
   "source": [
    "data_single = np.random.rand(20)\n",
    "plot_line_chart(data_single)"
   ],
   "outputs": []
  },
  {
   "cell_type": "markdown",
   "metadata": {},
   "source": []
  }
 ],
 "metadata": {
  "kernelspec": {
   "display_name": "pyEpi",
   "language": "python",
   "name": "python3"
  },
  "language_info": {
   "codemirror_mode": {
    "name": "ipython",
    "version": 3
   },
   "file_extension": ".py",
   "mimetype": "text/x-python",
   "name": "python",
   "nbconvert_exporter": "python",
   "pygments_lexer": "ipython3",
   "version": "3.9.19"
  }
 },
 "nbformat": 4,
 "nbformat_minor": 2
}
