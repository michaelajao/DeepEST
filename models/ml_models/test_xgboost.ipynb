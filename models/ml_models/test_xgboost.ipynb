{
 "cells": [
  {
   "cell_type": "code",
   "execution_count": 1,
   "metadata": {},
   "source": [
    "import pandas as pd\n",
    "import numpy as np\n",
    "import torch \n",
    "import sys\n",
    "sys.path.append(\"../../\")\n",
    "from dataset import *\n",
    "from models import *\n",
    "from trainer import *"
   ],
   "outputs": []
  },
  {
   "cell_type": "code",
   "execution_count": 2,
   "metadata": {},
   "source": [
    "claim_data = torch.Tensor(pd.read_pickle('../../data/claim_tensor.pkl'))\n",
    "county_data = torch.Tensor(pd.read_pickle('../../data/county_tensor.pkl'))\n",
    "hospitalizations_data = torch.Tensor(pd.read_pickle('../../data/hospitalizations.pkl'))\n",
    "distance_matrix = torch.Tensor(pd.read_pickle('../../data/distance_mat.pkl'))\n",
    "data_time = pd.read_pickle('../../data/date_range.pkl') #这个是list\n",
    "claim_data.shape, county_data.shape, hospitalizations_data.shape, distance_matrix.shape,"
   ],
   "outputs": []
  },
  {
   "cell_type": "code",
   "execution_count": 3,
   "metadata": {},
   "source": [
    "dynamic_data = torch.cat((claim_data,torch.unsqueeze(hospitalizations_data, -1)), -1)\n",
    "static_data = county_data\n",
    "label = torch.unsqueeze(hospitalizations_data, -1)\n",
    "dynamic_data = dynamic_data[:500]\n",
    "static_data = static_data[:500]\n",
    "label = label[:500]\n",
    "\n",
    "dynamic_data.shape, static_data.shape, label.shape"
   ],
   "outputs": []
  },
  {
   "cell_type": "code",
   "execution_count": 4,
   "metadata": {},
   "source": [
    "preprocess = PreprocessData(dynamic_data = dynamic_data, static_data = static_data, label = label, input_window = 70, output_window = 30, type= 'temporal', mode = 0, method = 'mean')\n",
    "trainset, valset, testset = preprocess.getMlDataSet()\n",
    "train_temporal_loader = get_dataloader(trainset)\n",
    "val_temporal_loader = get_dataloader(valset)\n",
    "test_temporal_loader = get_dataloader(testset)"
   ],
   "outputs": []
  },
  {
   "cell_type": "code",
   "execution_count": 5,
   "metadata": {},
   "source": [
    "for x, y in train_temporal_loader:\n",
    "    print(f'x.shape is {x.shape}, y.shape is {y.shape}')"
   ],
   "outputs": []
  },
  {
   "cell_type": "code",
   "execution_count": 6,
   "metadata": {},
   "source": [
    "xgb = XGBoost()\n",
    "xgb_trainer = MlTrainer(xgb)\n",
    "xgb_trainer.train(train_dataloader=train_temporal_loader)\n",
    "xgb_trainer.evaluate(val_dataloader=val_temporal_loader)"
   ],
   "outputs": []
  },
  {
   "cell_type": "code",
   "execution_count": 8,
   "metadata": {},
   "source": [
    "from xgboost import XGBRegressor\n",
    "from sklearn.multioutput import MultiOutputRegressor\n",
    "import numpy as np\n",
    "\n",
    "# 准备示例数据\n",
    "X = np.random.rand(100, 5)  # 特征数据，形状 (100, 5)\n",
    "y = np.random.rand(100, 3)  # 三个回归值，形状 (100, 3)\n",
    "\n",
    "# 创建 XGBoost 回归模型\n",
    "xgb_model = XGBRegressor()\n",
    "\n",
    "# 使用 MultiOutputRegressor 将单输出模型包装成多输出模型\n",
    "# multioutput_model = MultiOutputRegressor(xgb_model)\n",
    "\n",
    "# 训练多输出模型\n",
    "xgb_model.fit(X, y)\n",
    "\n",
    "# 预测多个回归值\n",
    "predictions = xgb_model.predict(X)\n",
    "predictions.shape"
   ],
   "outputs": []
  }
 ],
 "metadata": {
  "kernelspec": {
   "display_name": "pyEpi",
   "language": "python",
   "name": "python3"
  },
  "language_info": {
   "codemirror_mode": {
    "name": "ipython",
    "version": 3
   },
   "file_extension": ".py",
   "mimetype": "text/x-python",
   "name": "python",
   "nbconvert_exporter": "python",
   "pygments_lexer": "ipython3",
   "version": "3.9.16"
  }
 },
 "nbformat": 4,
 "nbformat_minor": 2
}
