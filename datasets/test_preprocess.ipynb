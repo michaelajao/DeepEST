{
 "cells": [
  {
   "cell_type": "code",
   "execution_count": 1,
   "metadata": {},
   "source": [
    "import pandas as pd\n",
    "import numpy as np\n",
    "import torch \n",
    "import sys\n",
    "sys.path.append(\"../\")\n",
    "from datasets import *\n",
    "from models import *\n",
    "from trainer import *"
   ],
   "outputs": []
  },
  {
   "cell_type": "code",
   "execution_count": null,
   "metadata": {},
   "source": [
    "claim_data = torch.Tensor(pd.read_pickle('../data/claim_tensor.pkl'))\n",
    "county_data = torch.Tensor(pd.read_pickle('../data/county_tensor.pkl'))\n",
    "hospitalizations_data = torch.Tensor(pd.read_pickle('../data/hospitalizations.pkl'))\n",
    "distance_matrix = torch.Tensor(pd.read_pickle('../data/distance_mat.pkl'))\n",
    "data_time = pd.read_pickle('../data/date_range.pkl') #这个是list\n",
    "claim_data.shape, county_data.shape, hospitalizations_data.shape, distance_matrix.shape,"
   ],
   "outputs": []
  },
  {
   "cell_type": "code",
   "execution_count": null,
   "metadata": {},
   "source": [
    "dynamic_data = torch.cat((claim_data,torch.unsqueeze(hospitalizations_data, -1)), -1)\n",
    "static_data = county_data\n",
    "label = torch.unsqueeze(hospitalizations_data, -1)\n",
    "dynamic_data = dynamic_data[:500]\n",
    "static_data = static_data[:500]\n",
    "label = label[:500]\n",
    "\n",
    "dynamic_data.shape, static_data.shape, label.shape"
   ],
   "outputs": []
  },
  {
   "cell_type": "markdown",
   "metadata": {},
   "source": [
    "## Test temporal data "
   ]
  },
  {
   "cell_type": "code",
   "execution_count": null,
   "metadata": {},
   "source": [
    "preprocess = preprocess_data(dynamic_data = dynamic_data, static_data = static_data, label = label, input_window = 7, output_window = 3, type= 'temporal', mode = 0, method = 'mean')\n",
    "trainset, valset, testset = preprocess.getDataSet()\n",
    "train_temporal_loader = get_dataloader(trainset)\n",
    "val_temporal_loader = get_dataloader(valset)\n",
    "test_temporal_loader = get_dataloader(testset)"
   ],
   "outputs": []
  },
  {
   "cell_type": "code",
   "execution_count": null,
   "metadata": {},
   "source": [
    "for x, y in train_temporal_loader:\n",
    "    print(f'x.shape is {x.shape}, y.shape is {y.shape}')"
   ],
   "outputs": []
  },
  {
   "cell_type": "code",
   "execution_count": null,
   "metadata": {},
   "source": [
    "for x, y in val_temporal_loader:\n",
    "    print(f'x.shape is {x.shape}, y.shape is {y.shape}')"
   ],
   "outputs": []
  },
  {
   "cell_type": "code",
   "execution_count": null,
   "metadata": {},
   "source": [
    "for x, y in test_temporal_loader:\n",
    "    print(f'x.shape is {x.shape}, y.shape is {y.shape}')"
   ],
   "outputs": []
  },
  {
   "cell_type": "code",
   "execution_count": null,
   "metadata": {},
   "source": [
    "## Test spatial Temporal data"
   ],
   "outputs": []
  },
  {
   "cell_type": "code",
   "execution_count": null,
   "metadata": {},
   "source": [
    "preprocess = PreprocessData(dynamic_data = dynamic_data, static_data = static_data, label = label, input_window = 7, output_window = 3, type= 'spatial-temporal')\n",
    "trainset, valset, testset = preprocess.getDlDataSet()\n",
    "train_spatial_temporal_loader = get_dataloader(trainset, 8, True)\n",
    "val_spatial_temporal_loader = get_dataloader(valset, 8, False)\n",
    "test_spatial_temporal_loader = get_dataloader(testset, 8, False)"
   ],
   "outputs": []
  },
  {
   "cell_type": "code",
   "execution_count": null,
   "metadata": {},
   "source": [
    "for x, y in train_spatial_temporal_loader:\n",
    "    print(f'x.shape is {x.shape}, y.shape is {y.shape}')"
   ],
   "outputs": []
  },
  {
   "cell_type": "code",
   "execution_count": null,
   "metadata": {},
   "source": [
    "for x, y in val_spatial_temporal_loader:\n",
    "    print(f'x.shape is {x.shape}, y.shape is {y.shape}')"
   ],
   "outputs": []
  },
  {
   "cell_type": "code",
   "execution_count": null,
   "metadata": {},
   "source": [
    "for x, y in test_spatial_temporal_loader:\n",
    "    print(f'x.shape is {x.shape}, y.shape is {y.shape}')"
   ],
   "outputs": []
  }
 ],
 "metadata": {
  "kernelspec": {
   "display_name": "pyEpi",
   "language": "python",
   "name": "python3"
  },
  "language_info": {
   "codemirror_mode": {
    "name": "ipython",
    "version": 3
   },
   "file_extension": ".py",
   "mimetype": "text/x-python",
   "name": "python",
   "nbconvert_exporter": "python",
   "pygments_lexer": "ipython3",
   "version": "3.9.19"
  }
 },
 "nbformat": 4,
 "nbformat_minor": 2
}
