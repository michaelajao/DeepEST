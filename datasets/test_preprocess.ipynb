{
 "cells": [
  {
   "cell_type": "code",
   "execution_count": 1,
   "metadata": {},
   "outputs": [
    {
     "name": "stderr",
     "output_type": "stream",
     "text": [
      "c:\\Users\\ajaoo\\Desktop\\Projects\\DeepEST\\datasets\\..\\trainer\\trainer.py:10: TqdmExperimentalWarning: Using `tqdm.autonotebook.tqdm` in notebook mode. Use `tqdm.tqdm` instead to force console mode (e.g. in jupyter console)\n",
      "  from tqdm.autonotebook import trange\n"
     ]
    }
   ],
   "source": [
    "import pandas as pd\n",
    "import numpy as np\n",
    "import torch \n",
    "import sys\n",
    "sys.path.append(\"../\")\n",
    "from datasets import *\n",
    "from models import *\n",
    "from trainer import *"
   ]
  },
  {
   "cell_type": "code",
   "execution_count": 2,
   "metadata": {},
   "outputs": [
    {
     "data": {
      "text/plain": [
       "(torch.Size([2334, 14]), torch.Size([2334, 639]), torch.Size([2334, 2334]))"
      ]
     },
     "execution_count": 2,
     "metadata": {},
     "output_type": "execute_result"
    }
   ],
   "source": [
    "# claim_data = torch.Tensor(pd.read_pickle('../data/claim_tensor.pkl'))\n",
    "county_data = torch.Tensor(pd.read_pickle('../data/county_tensor.pkl'))\n",
    "hospitalizations_data = torch.Tensor(pd.read_pickle('../data/hospitalizations.pkl'))\n",
    "distance_matrix = torch.Tensor(pd.read_pickle('../data/distance_mat.pkl'))\n",
    "data_time = pd.read_pickle('../data/date_range.pkl') #这个是list\n",
    "county_data.shape, hospitalizations_data.shape, distance_matrix.shape,"
   ]
  },
  {
   "cell_type": "code",
   "execution_count": 3,
   "metadata": {},
   "outputs": [
    {
     "data": {
      "text/plain": [
       "(torch.Size([500, 639, 1]), torch.Size([500, 14]), torch.Size([500, 639, 1]))"
      ]
     },
     "execution_count": 3,
     "metadata": {},
     "output_type": "execute_result"
    }
   ],
   "source": [
    "dynamic_data = torch.unsqueeze(hospitalizations_data, -1)\n",
    "static_data = county_data\n",
    "label = torch.unsqueeze(hospitalizations_data, -1)\n",
    "dynamic_data = dynamic_data[:500]\n",
    "static_data = static_data[:500]\n",
    "label = label[:500]\n",
    "\n",
    "dynamic_data.shape, static_data.shape, label.shape"
   ]
  },
  {
   "cell_type": "markdown",
   "metadata": {},
   "source": [
    "## Test temporal data "
   ]
  },
  {
   "cell_type": "code",
   "execution_count": 4,
   "metadata": {},
   "outputs": [],
   "source": [
    "preprocess = preprocess_data(dynamic_data = dynamic_data, static_data = static_data, label = label, input_window = 7, output_window = 3, type= 'temporal', mode = 0, method = 'mean')"
   ]
  },
  {
   "cell_type": "code",
   "execution_count": 21,
   "metadata": {},
   "outputs": [
    {
     "data": {
      "text/plain": [
       "(<datasets.dataset.dl_dataset at 0x2de88e96e90>,\n",
       " <datasets.dataset.dl_dataset at 0x2de89f12cb0>,\n",
       " <datasets.dataset.dl_dataset at 0x2de89f10610>)"
      ]
     },
     "execution_count": 21,
     "metadata": {},
     "output_type": "execute_result"
    }
   ],
   "source": [
    "preprocess.get_dl_dataset()"
   ]
  },
  {
   "cell_type": "code",
   "execution_count": 6,
   "metadata": {},
   "outputs": [],
   "source": [
    "trainset, valset, testset = preprocess.get_dl_dataset()\n",
    "train_temporal_loader = get_dataloader(trainset)\n",
    "val_temporal_loader = get_dataloader(valset)\n",
    "test_temporal_loader = get_dataloader(testset)"
   ]
  },
  {
   "cell_type": "code",
   "execution_count": 7,
   "metadata": {},
   "outputs": [
    {
     "name": "stdout",
     "output_type": "stream",
     "text": [
      "x.shape is torch.Size([8, 7, 15]), y.shape is torch.Size([8, 3, 1])\n",
      "x.shape is torch.Size([8, 7, 15]), y.shape is torch.Size([8, 3, 1])\n",
      "x.shape is torch.Size([8, 7, 15]), y.shape is torch.Size([8, 3, 1])\n",
      "x.shape is torch.Size([8, 7, 15]), y.shape is torch.Size([8, 3, 1])\n",
      "x.shape is torch.Size([8, 7, 15]), y.shape is torch.Size([8, 3, 1])\n",
      "x.shape is torch.Size([8, 7, 15]), y.shape is torch.Size([8, 3, 1])\n",
      "x.shape is torch.Size([8, 7, 15]), y.shape is torch.Size([8, 3, 1])\n",
      "x.shape is torch.Size([8, 7, 15]), y.shape is torch.Size([8, 3, 1])\n",
      "x.shape is torch.Size([8, 7, 15]), y.shape is torch.Size([8, 3, 1])\n",
      "x.shape is torch.Size([8, 7, 15]), y.shape is torch.Size([8, 3, 1])\n",
      "x.shape is torch.Size([8, 7, 15]), y.shape is torch.Size([8, 3, 1])\n",
      "x.shape is torch.Size([8, 7, 15]), y.shape is torch.Size([8, 3, 1])\n",
      "x.shape is torch.Size([8, 7, 15]), y.shape is torch.Size([8, 3, 1])\n",
      "x.shape is torch.Size([8, 7, 15]), y.shape is torch.Size([8, 3, 1])\n",
      "x.shape is torch.Size([8, 7, 15]), y.shape is torch.Size([8, 3, 1])\n",
      "x.shape is torch.Size([8, 7, 15]), y.shape is torch.Size([8, 3, 1])\n",
      "x.shape is torch.Size([8, 7, 15]), y.shape is torch.Size([8, 3, 1])\n",
      "x.shape is torch.Size([8, 7, 15]), y.shape is torch.Size([8, 3, 1])\n",
      "x.shape is torch.Size([8, 7, 15]), y.shape is torch.Size([8, 3, 1])\n",
      "x.shape is torch.Size([8, 7, 15]), y.shape is torch.Size([8, 3, 1])\n",
      "x.shape is torch.Size([8, 7, 15]), y.shape is torch.Size([8, 3, 1])\n",
      "x.shape is torch.Size([8, 7, 15]), y.shape is torch.Size([8, 3, 1])\n",
      "x.shape is torch.Size([8, 7, 15]), y.shape is torch.Size([8, 3, 1])\n",
      "x.shape is torch.Size([8, 7, 15]), y.shape is torch.Size([8, 3, 1])\n",
      "x.shape is torch.Size([8, 7, 15]), y.shape is torch.Size([8, 3, 1])\n",
      "x.shape is torch.Size([8, 7, 15]), y.shape is torch.Size([8, 3, 1])\n",
      "x.shape is torch.Size([8, 7, 15]), y.shape is torch.Size([8, 3, 1])\n",
      "x.shape is torch.Size([8, 7, 15]), y.shape is torch.Size([8, 3, 1])\n",
      "x.shape is torch.Size([8, 7, 15]), y.shape is torch.Size([8, 3, 1])\n",
      "x.shape is torch.Size([8, 7, 15]), y.shape is torch.Size([8, 3, 1])\n",
      "x.shape is torch.Size([8, 7, 15]), y.shape is torch.Size([8, 3, 1])\n",
      "x.shape is torch.Size([8, 7, 15]), y.shape is torch.Size([8, 3, 1])\n",
      "x.shape is torch.Size([8, 7, 15]), y.shape is torch.Size([8, 3, 1])\n",
      "x.shape is torch.Size([8, 7, 15]), y.shape is torch.Size([8, 3, 1])\n",
      "x.shape is torch.Size([8, 7, 15]), y.shape is torch.Size([8, 3, 1])\n",
      "x.shape is torch.Size([8, 7, 15]), y.shape is torch.Size([8, 3, 1])\n",
      "x.shape is torch.Size([8, 7, 15]), y.shape is torch.Size([8, 3, 1])\n",
      "x.shape is torch.Size([8, 7, 15]), y.shape is torch.Size([8, 3, 1])\n",
      "x.shape is torch.Size([8, 7, 15]), y.shape is torch.Size([8, 3, 1])\n",
      "x.shape is torch.Size([8, 7, 15]), y.shape is torch.Size([8, 3, 1])\n",
      "x.shape is torch.Size([8, 7, 15]), y.shape is torch.Size([8, 3, 1])\n",
      "x.shape is torch.Size([8, 7, 15]), y.shape is torch.Size([8, 3, 1])\n",
      "x.shape is torch.Size([8, 7, 15]), y.shape is torch.Size([8, 3, 1])\n",
      "x.shape is torch.Size([8, 7, 15]), y.shape is torch.Size([8, 3, 1])\n",
      "x.shape is torch.Size([8, 7, 15]), y.shape is torch.Size([8, 3, 1])\n",
      "x.shape is torch.Size([8, 7, 15]), y.shape is torch.Size([8, 3, 1])\n",
      "x.shape is torch.Size([6, 7, 15]), y.shape is torch.Size([6, 3, 1])\n"
     ]
    }
   ],
   "source": [
    "for x, y in train_temporal_loader:\n",
    "    print(f'x.shape is {x.shape}, y.shape is {y.shape}')"
   ]
  },
  {
   "cell_type": "code",
   "execution_count": 8,
   "metadata": {},
   "outputs": [
    {
     "name": "stdout",
     "output_type": "stream",
     "text": [
      "x.shape is torch.Size([8, 7, 15]), y.shape is torch.Size([8, 3, 1])\n",
      "x.shape is torch.Size([8, 7, 15]), y.shape is torch.Size([8, 3, 1])\n",
      "x.shape is torch.Size([8, 7, 15]), y.shape is torch.Size([8, 3, 1])\n",
      "x.shape is torch.Size([8, 7, 15]), y.shape is torch.Size([8, 3, 1])\n",
      "x.shape is torch.Size([8, 7, 15]), y.shape is torch.Size([8, 3, 1])\n",
      "x.shape is torch.Size([8, 7, 15]), y.shape is torch.Size([8, 3, 1])\n",
      "x.shape is torch.Size([8, 7, 15]), y.shape is torch.Size([8, 3, 1])\n",
      "x.shape is torch.Size([8, 7, 15]), y.shape is torch.Size([8, 3, 1])\n",
      "x.shape is torch.Size([8, 7, 15]), y.shape is torch.Size([8, 3, 1])\n",
      "x.shape is torch.Size([8, 7, 15]), y.shape is torch.Size([8, 3, 1])\n",
      "x.shape is torch.Size([8, 7, 15]), y.shape is torch.Size([8, 3, 1])\n",
      "x.shape is torch.Size([8, 7, 15]), y.shape is torch.Size([8, 3, 1])\n",
      "x.shape is torch.Size([8, 7, 15]), y.shape is torch.Size([8, 3, 1])\n",
      "x.shape is torch.Size([8, 7, 15]), y.shape is torch.Size([8, 3, 1])\n",
      "x.shape is torch.Size([6, 7, 15]), y.shape is torch.Size([6, 3, 1])\n"
     ]
    }
   ],
   "source": [
    "for x, y in val_temporal_loader:\n",
    "    print(f'x.shape is {x.shape}, y.shape is {y.shape}')"
   ]
  },
  {
   "cell_type": "code",
   "execution_count": 9,
   "metadata": {},
   "outputs": [
    {
     "name": "stdout",
     "output_type": "stream",
     "text": [
      "x.shape is torch.Size([8, 7, 15]), y.shape is torch.Size([8, 3, 1])\n",
      "x.shape is torch.Size([8, 7, 15]), y.shape is torch.Size([8, 3, 1])\n",
      "x.shape is torch.Size([8, 7, 15]), y.shape is torch.Size([8, 3, 1])\n",
      "x.shape is torch.Size([8, 7, 15]), y.shape is torch.Size([8, 3, 1])\n",
      "x.shape is torch.Size([8, 7, 15]), y.shape is torch.Size([8, 3, 1])\n",
      "x.shape is torch.Size([8, 7, 15]), y.shape is torch.Size([8, 3, 1])\n",
      "x.shape is torch.Size([8, 7, 15]), y.shape is torch.Size([8, 3, 1])\n",
      "x.shape is torch.Size([8, 7, 15]), y.shape is torch.Size([8, 3, 1])\n",
      "x.shape is torch.Size([8, 7, 15]), y.shape is torch.Size([8, 3, 1])\n",
      "x.shape is torch.Size([8, 7, 15]), y.shape is torch.Size([8, 3, 1])\n",
      "x.shape is torch.Size([8, 7, 15]), y.shape is torch.Size([8, 3, 1])\n",
      "x.shape is torch.Size([8, 7, 15]), y.shape is torch.Size([8, 3, 1])\n",
      "x.shape is torch.Size([8, 7, 15]), y.shape is torch.Size([8, 3, 1])\n",
      "x.shape is torch.Size([8, 7, 15]), y.shape is torch.Size([8, 3, 1])\n",
      "x.shape is torch.Size([8, 7, 15]), y.shape is torch.Size([8, 3, 1])\n"
     ]
    }
   ],
   "source": [
    "for x, y in test_temporal_loader:\n",
    "    print(f'x.shape is {x.shape}, y.shape is {y.shape}')"
   ]
  },
  {
   "cell_type": "code",
   "execution_count": 10,
   "metadata": {},
   "outputs": [],
   "source": [
    "## Test spatial Temporal data"
   ]
  },
  {
   "cell_type": "code",
   "execution_count": 11,
   "metadata": {},
   "outputs": [],
   "source": [
    "preprocess = preprocess_data(dynamic_data = dynamic_data, static_data = static_data, label = label, input_window = 7, output_window = 3, type= 'spatial-temporal')\n",
    "trainset, valset, testset = preprocess.get_dl_dataset()\n",
    "train_spatial_temporal_loader = get_dataloader(trainset, 8, True)\n",
    "val_spatial_temporal_loader = get_dataloader(valset, 8, False)\n",
    "test_spatial_temporal_loader = get_dataloader(testset, 8, False)"
   ]
  },
  {
   "cell_type": "code",
   "execution_count": 12,
   "metadata": {},
   "outputs": [
    {
     "name": "stdout",
     "output_type": "stream",
     "text": [
      "x.shape is torch.Size([8, 500, 7, 15]), y.shape is torch.Size([8, 500, 3, 1])\n",
      "x.shape is torch.Size([8, 500, 7, 15]), y.shape is torch.Size([8, 500, 3, 1])\n",
      "x.shape is torch.Size([8, 500, 7, 15]), y.shape is torch.Size([8, 500, 3, 1])\n",
      "x.shape is torch.Size([8, 500, 7, 15]), y.shape is torch.Size([8, 500, 3, 1])\n",
      "x.shape is torch.Size([8, 500, 7, 15]), y.shape is torch.Size([8, 500, 3, 1])\n",
      "x.shape is torch.Size([8, 500, 7, 15]), y.shape is torch.Size([8, 500, 3, 1])\n",
      "x.shape is torch.Size([8, 500, 7, 15]), y.shape is torch.Size([8, 500, 3, 1])\n",
      "x.shape is torch.Size([8, 500, 7, 15]), y.shape is torch.Size([8, 500, 3, 1])\n",
      "x.shape is torch.Size([8, 500, 7, 15]), y.shape is torch.Size([8, 500, 3, 1])\n",
      "x.shape is torch.Size([8, 500, 7, 15]), y.shape is torch.Size([8, 500, 3, 1])\n",
      "x.shape is torch.Size([8, 500, 7, 15]), y.shape is torch.Size([8, 500, 3, 1])\n",
      "x.shape is torch.Size([8, 500, 7, 15]), y.shape is torch.Size([8, 500, 3, 1])\n",
      "x.shape is torch.Size([8, 500, 7, 15]), y.shape is torch.Size([8, 500, 3, 1])\n",
      "x.shape is torch.Size([8, 500, 7, 15]), y.shape is torch.Size([8, 500, 3, 1])\n",
      "x.shape is torch.Size([8, 500, 7, 15]), y.shape is torch.Size([8, 500, 3, 1])\n",
      "x.shape is torch.Size([8, 500, 7, 15]), y.shape is torch.Size([8, 500, 3, 1])\n",
      "x.shape is torch.Size([8, 500, 7, 15]), y.shape is torch.Size([8, 500, 3, 1])\n",
      "x.shape is torch.Size([8, 500, 7, 15]), y.shape is torch.Size([8, 500, 3, 1])\n",
      "x.shape is torch.Size([8, 500, 7, 15]), y.shape is torch.Size([8, 500, 3, 1])\n",
      "x.shape is torch.Size([8, 500, 7, 15]), y.shape is torch.Size([8, 500, 3, 1])\n",
      "x.shape is torch.Size([8, 500, 7, 15]), y.shape is torch.Size([8, 500, 3, 1])\n",
      "x.shape is torch.Size([8, 500, 7, 15]), y.shape is torch.Size([8, 500, 3, 1])\n",
      "x.shape is torch.Size([8, 500, 7, 15]), y.shape is torch.Size([8, 500, 3, 1])\n",
      "x.shape is torch.Size([8, 500, 7, 15]), y.shape is torch.Size([8, 500, 3, 1])\n",
      "x.shape is torch.Size([8, 500, 7, 15]), y.shape is torch.Size([8, 500, 3, 1])\n",
      "x.shape is torch.Size([8, 500, 7, 15]), y.shape is torch.Size([8, 500, 3, 1])\n",
      "x.shape is torch.Size([8, 500, 7, 15]), y.shape is torch.Size([8, 500, 3, 1])\n",
      "x.shape is torch.Size([8, 500, 7, 15]), y.shape is torch.Size([8, 500, 3, 1])\n",
      "x.shape is torch.Size([8, 500, 7, 15]), y.shape is torch.Size([8, 500, 3, 1])\n",
      "x.shape is torch.Size([8, 500, 7, 15]), y.shape is torch.Size([8, 500, 3, 1])\n",
      "x.shape is torch.Size([8, 500, 7, 15]), y.shape is torch.Size([8, 500, 3, 1])\n",
      "x.shape is torch.Size([8, 500, 7, 15]), y.shape is torch.Size([8, 500, 3, 1])\n",
      "x.shape is torch.Size([8, 500, 7, 15]), y.shape is torch.Size([8, 500, 3, 1])\n",
      "x.shape is torch.Size([8, 500, 7, 15]), y.shape is torch.Size([8, 500, 3, 1])\n",
      "x.shape is torch.Size([8, 500, 7, 15]), y.shape is torch.Size([8, 500, 3, 1])\n",
      "x.shape is torch.Size([8, 500, 7, 15]), y.shape is torch.Size([8, 500, 3, 1])\n",
      "x.shape is torch.Size([8, 500, 7, 15]), y.shape is torch.Size([8, 500, 3, 1])\n",
      "x.shape is torch.Size([8, 500, 7, 15]), y.shape is torch.Size([8, 500, 3, 1])\n",
      "x.shape is torch.Size([8, 500, 7, 15]), y.shape is torch.Size([8, 500, 3, 1])\n",
      "x.shape is torch.Size([8, 500, 7, 15]), y.shape is torch.Size([8, 500, 3, 1])\n",
      "x.shape is torch.Size([8, 500, 7, 15]), y.shape is torch.Size([8, 500, 3, 1])\n",
      "x.shape is torch.Size([8, 500, 7, 15]), y.shape is torch.Size([8, 500, 3, 1])\n",
      "x.shape is torch.Size([8, 500, 7, 15]), y.shape is torch.Size([8, 500, 3, 1])\n",
      "x.shape is torch.Size([8, 500, 7, 15]), y.shape is torch.Size([8, 500, 3, 1])\n",
      "x.shape is torch.Size([8, 500, 7, 15]), y.shape is torch.Size([8, 500, 3, 1])\n",
      "x.shape is torch.Size([8, 500, 7, 15]), y.shape is torch.Size([8, 500, 3, 1])\n",
      "x.shape is torch.Size([6, 500, 7, 15]), y.shape is torch.Size([6, 500, 3, 1])\n"
     ]
    }
   ],
   "source": [
    "for x, y in train_spatial_temporal_loader:\n",
    "    print(f'x.shape is {x.shape}, y.shape is {y.shape}')"
   ]
  },
  {
   "cell_type": "code",
   "execution_count": 13,
   "metadata": {},
   "outputs": [
    {
     "name": "stdout",
     "output_type": "stream",
     "text": [
      "x.shape is torch.Size([8, 500, 7, 15]), y.shape is torch.Size([8, 500, 3, 1])\n",
      "x.shape is torch.Size([8, 500, 7, 15]), y.shape is torch.Size([8, 500, 3, 1])\n",
      "x.shape is torch.Size([8, 500, 7, 15]), y.shape is torch.Size([8, 500, 3, 1])\n",
      "x.shape is torch.Size([8, 500, 7, 15]), y.shape is torch.Size([8, 500, 3, 1])\n",
      "x.shape is torch.Size([8, 500, 7, 15]), y.shape is torch.Size([8, 500, 3, 1])\n",
      "x.shape is torch.Size([8, 500, 7, 15]), y.shape is torch.Size([8, 500, 3, 1])\n",
      "x.shape is torch.Size([8, 500, 7, 15]), y.shape is torch.Size([8, 500, 3, 1])\n",
      "x.shape is torch.Size([8, 500, 7, 15]), y.shape is torch.Size([8, 500, 3, 1])\n",
      "x.shape is torch.Size([8, 500, 7, 15]), y.shape is torch.Size([8, 500, 3, 1])\n",
      "x.shape is torch.Size([8, 500, 7, 15]), y.shape is torch.Size([8, 500, 3, 1])\n",
      "x.shape is torch.Size([8, 500, 7, 15]), y.shape is torch.Size([8, 500, 3, 1])\n",
      "x.shape is torch.Size([8, 500, 7, 15]), y.shape is torch.Size([8, 500, 3, 1])\n",
      "x.shape is torch.Size([8, 500, 7, 15]), y.shape is torch.Size([8, 500, 3, 1])\n",
      "x.shape is torch.Size([8, 500, 7, 15]), y.shape is torch.Size([8, 500, 3, 1])\n",
      "x.shape is torch.Size([6, 500, 7, 15]), y.shape is torch.Size([6, 500, 3, 1])\n"
     ]
    }
   ],
   "source": [
    "for x, y in val_spatial_temporal_loader:\n",
    "    print(f'x.shape is {x.shape}, y.shape is {y.shape}')"
   ]
  },
  {
   "cell_type": "code",
   "execution_count": 14,
   "metadata": {},
   "outputs": [
    {
     "name": "stdout",
     "output_type": "stream",
     "text": [
      "x.shape is torch.Size([8, 500, 7, 15]), y.shape is torch.Size([8, 500, 3, 1])\n",
      "x.shape is torch.Size([8, 500, 7, 15]), y.shape is torch.Size([8, 500, 3, 1])\n",
      "x.shape is torch.Size([8, 500, 7, 15]), y.shape is torch.Size([8, 500, 3, 1])\n",
      "x.shape is torch.Size([8, 500, 7, 15]), y.shape is torch.Size([8, 500, 3, 1])\n",
      "x.shape is torch.Size([8, 500, 7, 15]), y.shape is torch.Size([8, 500, 3, 1])\n",
      "x.shape is torch.Size([8, 500, 7, 15]), y.shape is torch.Size([8, 500, 3, 1])\n",
      "x.shape is torch.Size([8, 500, 7, 15]), y.shape is torch.Size([8, 500, 3, 1])\n",
      "x.shape is torch.Size([8, 500, 7, 15]), y.shape is torch.Size([8, 500, 3, 1])\n",
      "x.shape is torch.Size([8, 500, 7, 15]), y.shape is torch.Size([8, 500, 3, 1])\n",
      "x.shape is torch.Size([8, 500, 7, 15]), y.shape is torch.Size([8, 500, 3, 1])\n",
      "x.shape is torch.Size([8, 500, 7, 15]), y.shape is torch.Size([8, 500, 3, 1])\n",
      "x.shape is torch.Size([8, 500, 7, 15]), y.shape is torch.Size([8, 500, 3, 1])\n",
      "x.shape is torch.Size([8, 500, 7, 15]), y.shape is torch.Size([8, 500, 3, 1])\n",
      "x.shape is torch.Size([8, 500, 7, 15]), y.shape is torch.Size([8, 500, 3, 1])\n",
      "x.shape is torch.Size([8, 500, 7, 15]), y.shape is torch.Size([8, 500, 3, 1])\n"
     ]
    }
   ],
   "source": [
    "for x, y in test_spatial_temporal_loader:\n",
    "    print(f'x.shape is {x.shape}, y.shape is {y.shape}')"
   ]
  },
  {
   "cell_type": "code",
   "execution_count": null,
   "metadata": {},
   "outputs": [],
   "source": []
  },
  {
   "cell_type": "code",
   "execution_count": null,
   "metadata": {},
   "outputs": [],
   "source": []
  }
 ],
 "metadata": {
  "kernelspec": {
   "display_name": "py_env",
   "language": "python",
   "name": "python3"
  },
  "language_info": {
   "codemirror_mode": {
    "name": "ipython",
    "version": 3
   },
   "file_extension": ".py",
   "mimetype": "text/x-python",
   "name": "python",
   "nbconvert_exporter": "python",
   "pygments_lexer": "ipython3",
   "version": "3.10.14"
  }
 },
 "nbformat": 4,
 "nbformat_minor": 2
}
