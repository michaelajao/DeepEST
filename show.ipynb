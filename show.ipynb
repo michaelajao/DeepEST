{
 "cells": [
  {
   "cell_type": "code",
   "execution_count": null,
   "id": "initial_id",
   "metadata": {
    "collapsed": true
   },
   "outputs": [],
   "source": [
    "from pyEpidemiology import DLTrainer, DLTester, build_model, PreprocessData, construct_adjacency_matrix\n",
    "#initialize data\n",
    "st_preprocess = PreprocessData(dynamic_data, static_data, label, input_window, output_window, type=\"spatio-temporal\") \n",
    "trainset, valset, testset = st_preprocess.getDlDataSet()\n",
    "train_st_loader, val_st_loader, test_st_loader = get_dataloader(trainset, batch_size, shuffle=True), get_dataloader(valset, 8), get_dataloader(testset, 8)\n",
    "# build model\n",
    "edge_index = construct_adjacency_matrix(static_data, threshold)\n",
    "model = build_model(preprocess=st_preprocess, model_name=\"colagnn\", edge_index=edge_index)\n",
    "# train and test\n",
    "trainer.train(train_dataloader= train_st_loader, val_dataloader= val_st_loader, epochs= 10)\n",
    "trainer = DlTrainer(model= model)\n",
    "tester = DlTester(model=model)\n",
    "tester.test(test_st_loader)\n"
   ]
  },
  {
   "cell_type": "code",
   "execution_count": null,
   "id": "c475e9264fea934d",
   "metadata": {},
   "outputs": [],
   "source": []
  }
 ],
 "metadata": {
  "kernelspec": {
   "display_name": "Python 3",
   "language": "python",
   "name": "python3"
  },
  "language_info": {
   "codemirror_mode": {
    "name": "ipython",
    "version": 2
   },
   "file_extension": ".py",
   "mimetype": "text/x-python",
   "name": "python",
   "nbconvert_exporter": "python",
   "pygments_lexer": "ipython2",
   "version": "2.7.6"
  }
 },
 "nbformat": 4,
 "nbformat_minor": 5
}
