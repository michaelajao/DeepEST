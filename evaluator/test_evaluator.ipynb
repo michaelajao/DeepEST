{
 "cells": [
  {
   "cell_type": "code",
   "execution_count": 1,
   "metadata": {},
   "outputs": [],
   "source": [
    "from metrics import *"
   ]
  },
  {
   "cell_type": "code",
   "execution_count": 2,
   "metadata": {},
   "outputs": [
    {
     "name": "stdout",
     "output_type": "stream",
     "text": [
      "forecast_mean is 3.1666667461395264, forecast_std is 1.0671874284744263, target_mean is 4.5, target_std is 2.9860787391662598\n",
      "covx(x,y) is -0.4166666567325592\n"
     ]
    },
    {
     "data": {
      "text/plain": [
       "(tensor(58.3333),\n",
       " tensor(2.6667),\n",
       " tensor(12.6667),\n",
       " tensor(-0.1308),\n",
       " tensor(-3.3429),\n",
       " tensor(3.5590))"
      ]
     },
     "execution_count": 2,
     "metadata": {},
     "output_type": "execute_result"
    }
   ],
   "source": [
    "a = torch.Tensor([[2,3,4],[3,5,2]])\n",
    "b = torch.Tensor([[8,2,3],[9,4,1]])\n",
    "eval = metrics(a,b)\n",
    "eval.MAPE(), eval.MAE(), eval.MSE(), eval.Pearson_correlation(), eval.R2(), eval.RMSE()\n"
   ]
  },
  {
   "cell_type": "code",
   "execution_count": 15,
   "metadata": {},
   "outputs": [
    {
     "name": "stdout",
     "output_type": "stream",
     "text": [
      "forecast_mean is 38.0, forecast_std is 24.819347381591797, target_mean is 0.1380000114440918, target_std is 0.024819351732730865\n",
      "covx(x,y) is 0.6160000562667847\n"
     ]
    },
    {
     "data": {
      "text/plain": [
       "tensor(1.0000)"
      ]
     },
     "execution_count": 15,
     "metadata": {},
     "output_type": "execute_result"
    }
   ],
   "source": [
    "x = torch.Tensor([10, 20, 30, 50, 80])\n",
    "y = torch.Tensor([0.11, 0.12, 0.13, 0.15, 0.18])\n",
    "e2 = metrics(x, y)\n",
    "e2.Pearson_correlation()"
   ]
  },
  {
   "cell_type": "code",
   "execution_count": 16,
   "metadata": {},
   "outputs": [
    {
     "data": {
      "text/plain": [
       "(2.6666667, tensor(2.6667))"
      ]
     },
     "execution_count": 16,
     "metadata": {},
     "output_type": "execute_result"
    }
   ],
   "source": [
    "from sklearn.metrics import mean_absolute_error\n",
    "mean_absolute_error(a,b), eval.MAE()"
   ]
  }
 ],
 "metadata": {
  "kernelspec": {
   "display_name": "pyEpi",
   "language": "python",
   "name": "python3"
  },
  "language_info": {
   "codemirror_mode": {
    "name": "ipython",
    "version": 3
   },
   "file_extension": ".py",
   "mimetype": "text/x-python",
   "name": "python",
   "nbconvert_exporter": "python",
   "pygments_lexer": "ipython3",
   "version": "3.9.16"
  },
  "orig_nbformat": 4
 },
 "nbformat": 4,
 "nbformat_minor": 2
}
